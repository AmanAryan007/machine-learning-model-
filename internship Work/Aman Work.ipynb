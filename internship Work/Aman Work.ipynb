{
 "cells": [
  {
   "cell_type": "markdown",
   "id": "dc04c314",
   "metadata": {},
   "source": [
    "# Task: User Story: User should be able to provide a Customer ID and Date, and program should be able to predict quantity"
   ]
  },
  {
   "cell_type": "code",
   "execution_count": 5,
   "id": "616c9121",
   "metadata": {},
   "outputs": [
    {
     "name": "stdout",
     "output_type": "stream",
     "text": [
      "   CustomerID InvoiceDate  day_of_week  month  predicted_quantity\n",
      "0       12345  2022-08-01            0      8           15.684307\n"
     ]
    }
   ],
   "source": [
    "import pandas as pd\n",
    "from sklearn.model_selection import train_test_split\n",
    "from sklearn.linear_model import LinearRegression\n",
    "from sklearn.metrics import mean_absolute_error, mean_squared_error\n",
    "\n",
    "# Load the data\n",
    "df = pd.read_csv(\"Online Retail.xlsx\")\n",
    "\n",
    "# Handle missing values\n",
    "df.dropna(inplace=True)\n",
    "# Clean the data\n",
    "df.drop(columns=['InvoiceNo',\"StockCode\",\"Description\",\"UnitPrice\",\"Country\"], inplace=True)\n",
    "df['CustomerID'] = df['CustomerID'].astype(int)\n",
    "df['InvoiceDate'] = pd.to_datetime(df['InvoiceDate'])\n",
    "df = df[(df['Quantity'] >= 0) & (df['Quantity'] <= 1000)]\n",
    "# # Feature engineering\n",
    "df['day_of_week'] = df['InvoiceDate'].dt.dayofweek\n",
    "df['month'] = df['InvoiceDate'].dt.month\n",
    "# Split the data\n",
    "train_data, test_data = train_test_split(df, test_size=0.2, random_state=42)\n",
    "# Model training\n",
    "features = ['CustomerID', 'day_of_week', 'month']\n",
    "target = 'Quantity'\n",
    "model = LinearRegression()\n",
    "model.fit(train_data[features], train_data[target])\n",
    "# # Model evaluation\n",
    "test_data['predicted_quantity'] = model.predict(test_data[features])\n",
    "mae = mean_absolute_error(test_data['Quantity'], test_data['predicted_quantity'])\n",
    "mse = mean_squared_error(test_data['Quantity'], test_data['predicted_quantity'])\n",
    "# print(f'Mean Absolute Error: {mae:.2f}')\n",
    "# print(f'Mean Squared Error: {mse:.2f}')\n",
    "# Model deployment\n",
    "new_data = pd.DataFrame({'CustomerID': [12345], 'InvoiceDate': ['2022-08-01']})\n",
    "new_data['InvoiceDate'] = pd.to_datetime(new_data['InvoiceDate'])\n",
    "new_data['day_of_week'] = new_data['InvoiceDate'].dt.dayofweek\n",
    "new_data['month'] = new_data['InvoiceDate'].dt.month\n",
    "new_data['predicted_quantity'] = model.predict(new_data[features])\n",
    "print(new_data)"
   ]
  },
  {
   "cell_type": "code",
   "execution_count": null,
   "id": "82f1131b",
   "metadata": {},
   "outputs": [],
   "source": []
  },
  {
   "cell_type": "code",
   "execution_count": null,
   "id": "455a0461",
   "metadata": {},
   "outputs": [],
   "source": []
  },
  {
   "cell_type": "code",
   "execution_count": null,
   "id": "c21bdc9b",
   "metadata": {},
   "outputs": [],
   "source": []
  }
 ],
 "metadata": {
  "kernelspec": {
   "display_name": "Python 3 (ipykernel)",
   "language": "python",
   "name": "python3"
  },
  "language_info": {
   "codemirror_mode": {
    "name": "ipython",
    "version": 3
   },
   "file_extension": ".py",
   "mimetype": "text/x-python",
   "name": "python",
   "nbconvert_exporter": "python",
   "pygments_lexer": "ipython3",
   "version": "3.10.6"
  }
 },
 "nbformat": 4,
 "nbformat_minor": 5
}
